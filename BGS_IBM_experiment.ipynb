{
 "cells": [
  {
   "cell_type": "code",
   "execution_count": 1,
   "id": "9cbd5c67-3bd9-427b-8a86-dfdd9126f390",
   "metadata": {},
   "outputs": [
    {
     "name": "stderr",
     "output_type": "stream",
     "text": [
      "<frozen importlib._bootstrap>:219: RuntimeWarning: scipy._lib.messagestream.MessageStream size changed, may indicate binary incompatibility. Expected 56 from C header, got 64 from PyObject\n"
     ]
    }
   ],
   "source": [
    "%matplotlib inline\n",
    "# Importing standard Qiskit libraries and configuring account\n",
    "from qiskit import QuantumCircuit, execute, Aer, IBMQ\n",
    "from qiskit.compiler import transpile, assemble\n",
    "from qiskit.tools.jupyter import *\n",
    "from qiskit.visualization import *\n",
    "from qiskit import IBMQ, QuantumRegister, ClassicalRegister, execute, QuantumCircuit\n",
    "# Loading your IBM Q account(s)\n",
    "import pylab\n",
    "import numpy as np\n",
    "from qiskit import BasicAer\n",
    "from qiskit.tools.visualization import plot_histogram\n",
    "import time\n",
    "from qiskit.tools.monitor import job_monitor\n",
    "from datetime import datetime\n",
    "import sys\n",
    "sys.path.insert(0, './')\n",
    "from utility7 import *\n",
    "\n",
    "from sklearn import linear_model\n",
    "from sklearn.model_selection import train_test_split, KFold, LeaveOneOut\n",
    "from sklearn.preprocessing import scale\n",
    "import pickle"
   ]
  },
  {
   "cell_type": "code",
   "execution_count": 2,
   "id": "c9145597-79d5-44b0-858f-80f57a842f89",
   "metadata": {},
   "outputs": [
    {
     "name": "stderr",
     "output_type": "stream",
     "text": [
      "ibmqfactory.load_account:WARNING:2022-11-13 20:23:26,152: Credentials are already in use. The existing account in the session will be replaced.\n"
     ]
    },
    {
     "data": {
      "text/plain": [
       "<qiskit.providers.models.backendconfiguration.PulseBackendConfiguration at 0x7f94990e6ee0>"
      ]
     },
     "execution_count": 2,
     "metadata": {},
     "output_type": "execute_result"
    }
   ],
   "source": [
    "IBMQ.load_account()\n",
    "provider = IBMQ.get_provider(hub = \"ibm-q\", group='open', project='main')\n",
    "backend = provider.get_backend('ibm_nairobi')#('ibmq_qasm_simulator')\n",
    "backend.configuration()"
   ]
  },
  {
   "cell_type": "code",
   "execution_count": 3,
   "id": "375cef03-22a9-4aad-aa97-39c6bc6eaac6",
   "metadata": {},
   "outputs": [],
   "source": [
    "#### data generating ####\n",
    "N=1000\n",
    "nrep = 100\n",
    "snr=1\n",
    "rho=0.7\n",
    "\n",
    "for p in range(6,16):\n",
    "    s=round(p/2)\n",
    "    B = np.zeros((p,))\n",
    "    B[0:s]=1\n",
    "    Sigma = np.zeros((p,p))\n",
    "    for i in range(p):\n",
    "        for j in range(p):\n",
    "            Sigma[i,j] = rho**abs(i-j)\n",
    "    mu = np.zeros((p,))\n",
    "    Input_list = []\n",
    "    test_list = []\n",
    "    for rep in range(nrep):\n",
    "        np.random.seed(101+rep)\n",
    "        X_train = np.random.multivariate_normal(mu, Sigma, N)+1\n",
    "        epsion = np.random.normal(0,1,N)\n",
    "        Y_train  = X_train.dot(B)+np.sqrt(B.dot(Sigma).dot(B)/snr)*epsion\n",
    "        initial_candidate = [] # candidates of initial subset\n",
    "        m = 5\n",
    "        for i in range(m):\n",
    "            initial_candidate.append([i for i in np.random.binomial(1, 0.5, p)])\n",
    "        Input = dict({\"Y_train\":Y_train,\"X_train\":X_train,\\\n",
    "                    \"initial_index\":initial_candidate,\"criterion\": \"Rsquared\"})\n",
    "        Input_list.append(Input)\n",
    "\n",
    "    with open(\"./simu_Input_p%d\"%p, \"wb\") as fp1:\n",
    "        pickle.dump(Input_list, fp1)\n"
   ]
  },
  {
   "cell_type": "code",
   "execution_count": 4,
   "id": "71720be9-f156-4efe-894e-7dc37c8312d9",
   "metadata": {},
   "outputs": [
    {
     "name": "stdout",
     "output_type": "stream",
     "text": [
      "6\n",
      "one replicate\n",
      "Job Status: job has successfully run\n",
      "24\n",
      "Job Status: job has successfully run\n",
      "24\n",
      "Job Status: job has successfully run\n",
      "22\n",
      "Job Status: job has successfully run\n",
      "22\n",
      "Job Status: job has successfully run\n",
      "22\n",
      "Job Status: job has successfully run\n",
      "one replicate\n",
      "Job Status: job has successfully run\n",
      "25\n",
      "Job Status: job has successfully run\n",
      "25\n",
      "Job Status: job has successfully run\n",
      "24\n",
      "Job Status: job has successfully run\n",
      "24\n",
      "Job Status: job has successfully run\n",
      "24\n",
      "Job Status: job has successfully run\n",
      "one replicate\n",
      "Job Status: job has successfully run\n",
      "31\n",
      "Job Status: job has successfully run\n",
      "31\n",
      "Job Status: job has successfully run\n",
      "31\n",
      "Job Status: job has successfully run\n",
      "31\n",
      "Job Status: job has successfully run\n",
      "one replicate\n",
      "Job Status: job has successfully run\n",
      "22\n",
      "Job Status: job has successfully run\n",
      "22\n",
      "Job Status: job has successfully run\n",
      "22\n",
      "Job Status: job has successfully run\n",
      "22\n",
      "Job Status: job has successfully run\n",
      "one replicate\n",
      "Job Status: job has successfully run\n",
      "30\n",
      "Job Status: job has successfully run\n",
      "25\n",
      "Job Status: job has successfully run\n",
      "25\n",
      "Job Status: job has successfully run\n",
      "13\n",
      "Job Status: job has successfully run\n",
      "13\n",
      "Job Status: job has successfully run\n",
      "13\n",
      "Job Status: job has successfully run\n",
      "one replicate\n",
      "Job Status: job has successfully run\n",
      "13\n",
      "Job Status: job has successfully run\n",
      "13\n",
      "Job Status: job has successfully run\n",
      "13\n",
      "Job Status: job has successfully run\n",
      "13\n",
      "Job Status: job has successfully run\n",
      "13\n",
      "Job Status: job has successfully run\n",
      "3\n",
      "Job Status: job has successfully run\n",
      "3\n",
      "Job Status: job has successfully run\n",
      "3\n",
      "one replicate\n",
      "Job Status: job has successfully run\n",
      "23\n",
      "Job Status: job has successfully run\n",
      "23\n",
      "Job Status: job has successfully run\n",
      "23\n",
      "Job Status: job has successfully run\n",
      "23\n",
      "Job Status: job has successfully run\n",
      "8\n",
      "Job Status: job has successfully run\n",
      "8\n",
      "Job Status: job has successfully run\n",
      "8\n",
      "Job Status: job has successfully run\n",
      "one replicate\n",
      "Job Status: job has successfully run\n",
      "23\n",
      "Job Status: job has successfully run\n",
      "23\n",
      "Job Status: job has successfully run\n",
      "23\n",
      "Job Status: job has successfully run\n",
      "23\n",
      "Job Status: job has successfully run\n",
      "8\n",
      "Job Status: job has successfully run\n",
      "8\n",
      "Job Status: job has successfully run\n",
      "8\n",
      "Job Status: job has successfully run\n",
      "one replicate\n",
      "Job Status: job has successfully run\n",
      "31\n",
      "Job Status: job has successfully run\n",
      "31\n",
      "Job Status: job has successfully run\n",
      "18\n",
      "Job Status: job has successfully run\n",
      "18\n",
      "Job Status: job has successfully run\n",
      "18\n",
      "Job Status: job has successfully run\n",
      "one replicate\n",
      "Job Status: job has successfully run\n",
      "27\n",
      "Job Status: job has successfully run\n",
      "27\n",
      "Job Status: job has successfully run\n",
      "27\n",
      "Job Status: job has successfully run\n",
      "27\n",
      "Job Status: job has successfully run\n"
     ]
    }
   ],
   "source": [
    "for p in range(3,7):\n",
    "    print(p)\n",
    "    Input_list = []\n",
    "    with open(\"./simu_Input_p%d\"%p, 'rb') as fr3:\n",
    "        Input_list.extend(pickle.load(fr3))\n",
    "    experiment_res = []\n",
    "    for Input in Input_list[0:10]:\n",
    "        print(\"one replicate\")\n",
    "        experiment_res.append(BGS_linearReg_BIC(Input))\n",
    "    with open(\"./IBM_res_simu_BGS_p%d\"%p, \"wb\") as fp4:\n",
    "        pickle.dump(experiment_res,fp4)\n"
   ]
  },
  {
   "cell_type": "code",
   "execution_count": null,
   "id": "58804463-c158-4619-8ca6-b235ad9664fa",
   "metadata": {},
   "outputs": [],
   "source": [
    "time = []\n",
    "time.extend(time3)\n",
    "time.extend(time4)\n",
    "time.extend(time5)\n",
    "time.extend(time6)\n",
    "time.extend(time7)\n",
    "import matplotlib.pyplot as plt\n",
    "import math\n",
    "import seaborn as sns\n",
    "D = 2**np.sort(np.array([i for i in range(3,8)]*10))\n",
    "import pandas as pd\n",
    "draw_data = pd.DataFrame({\"time\":time, \"D\":D})"
   ]
  },
  {
   "cell_type": "code",
   "execution_count": null,
   "id": "efe1f0d9-d49b-411b-8813-a16dde6284f7",
   "metadata": {},
   "outputs": [],
   "source": [
    "sns.set(rc={'figure.figsize':(6,4),'figure.dpi':600})\n",
    "sns.set_style(\"whitegrid\")\n",
    "ax = sns.boxplot(y=time,x=D,data= draw_data,width = 0.5,color = \"red\")#plt.plot(2**np.array([3,4,5,6,7]),[time3,time4,time5,time6,time7],color = \"red\",label = \"BGS\")\n",
    "x = np.arange(3,8)\n",
    "ax.set_xticklabels([r\"$2^{%d}$\"%p for p in x])\n",
    "\n",
    "ax = sns.lineplot(np.array([3,4,5,6,7])-3,1.5*2**(np.array([3,4,5,6,7])+3.5), linestyle='dashed',color = \"black\",label = \"O(D)\")\n",
    "ax = sns.lineplot(np.array([3,4,5,6,7])-3,3*(np.array([3,4,5,6,7]))**2*np.sqrt(2**(np.array([3,4,5,6,7]))), linestyle='dashed',color = \"blue\",label = r\"$O(\\sqrt{D}(\\log D)^3)$\")\n",
    "plt.xlabel(\"D\")\n",
    "plt.ylabel(\"Computational time in seconds\")\n",
    "plt.yscale('log', base=2)\n",
    "plt.legend(loc = \"upper left\")\n",
    "plt.savefig(\"res.jpg\", dpi=300)"
   ]
  }
 ],
 "metadata": {
  "kernelspec": {
   "display_name": "Python 3.9.6 64-bit",
   "language": "python",
   "name": "python3"
  },
  "language_info": {
   "codemirror_mode": {
    "name": "ipython",
    "version": 3
   },
   "file_extension": ".py",
   "mimetype": "text/x-python",
   "name": "python",
   "nbconvert_exporter": "python",
   "pygments_lexer": "ipython3",
   "version": "3.9.6"
  },
  "vscode": {
   "interpreter": {
    "hash": "31f2aee4e71d21fbe5cf8b01ff0e069b9275f58929596ceb00d14d90e3e16cd6"
   }
  },
  "widgets": {
   "application/vnd.jupyter.widget-state+json": {
    "state": {},
    "version_major": 2,
    "version_minor": 0
   }
  }
 },
 "nbformat": 4,
 "nbformat_minor": 5
}
