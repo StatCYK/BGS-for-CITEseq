{
  "cells": [
    {
      "cell_type": "code",
      "execution_count": null,
      "metadata": {
        "colab": {
          "base_uri": "https://localhost:8080/",
          "height": 563
        },
        "id": "5YUzh9AQPZyD",
        "outputId": "d7d1d5c5-97fa-4c6f-923f-4207012f4439"
      },
      "outputs": [],
      "source": [
        "import sklearn\n",
        "import numpy as np\n",
        "import matplotlib.pyplot as plt\n",
        "import pandas as pd\n",
        "import seaborn as sns\n",
        "import pickle\n",
        "import collections\n",
        "\n",
        "BSS_MSE = np.load(\"../select_result/BSS_select_accu.npy\")\n",
        "BGS_MSE = np.load(\"../select_result/BGS_select_accu.npy\")\n",
        "\n",
        "df = pd.DataFrame({\n",
        "    'BSS': BSS_MSE,\n",
        "    'BGS': BGS_MSE\n",
        "})\n",
        "my_pal = {'BGS': \"r\", 'BSS': \"b\"}\n",
        "data_df = df.melt(var_name='method', value_name='test MSE')\n",
        "plt.figure(figsize=(3,8),dpi=360)\n",
        "plt.rcParams['font.size'] = '30'\n",
        "plt.rcParams['font.weight'] = 'bold'\n",
        "# Illustrate boxplot\n",
        "sns.boxplot(x='method', y='test MSE',palette=my_pal, data=data_df)\n",
        "#sns.set(font_scale=1)\n",
        "\n",
        "sns.stripplot(x='method', y='test MSE', color='black',\n",
        "              alpha=0.5, data=data_df)\n",
        "plt.xlabel(r\"Method\", fontweight='bold')\n",
        "plt.ylabel(r\"out-of-sample MSE\", fontweight='bold')\n",
        "plt.show()\n"
      ]
    },
    {
      "cell_type": "code",
      "execution_count": 23,
      "metadata": {
        "id": "3dxo-cASPt-J"
      },
      "outputs": [],
      "source": [
        "data = pd.read_csv(\"../data/data_8000.csv\",index_col=0)\n",
        "ADT_names = list(data.columns[1:])\n",
        "BGS_res_list = []\n",
        "BSS_res_list = []\n",
        "p=13\n",
        "with open('../select_result/selected_subset_BGS', 'rb') as fr1:\n",
        "    BGS_res_list.extend(pickle.load(fr1))\n",
        "\n",
        "with open('../select_result/selected_subset_BSS', 'rb') as fr2:\n",
        "    BSS_res_list.extend(pickle.load(fr2))\n",
        "BGS_select_times = np.zeros(p)\n",
        "BSS_select_times = np.zeros(p)\n",
        "for res in BGS_res_list:\n",
        "    BGS_select = res.split(\" + \")\n",
        "    BGS_select_times = BGS_select_times+np.array([name in BGS_select for name in ADT_names ])+0\n",
        "\n",
        "for res in BSS_res_list:\n",
        "    BSS_select = res.split(\" + \")\n",
        "    BSS_select_times = BSS_select_times+np.array([name in BSS_select for name in ADT_names ])+0"
      ]
    },
    {
      "cell_type": "code",
      "execution_count": 66,
      "metadata": {},
      "outputs": [
        {
          "data": {
            "text/plain": [
              "Counter({'CD4 + CD16 + CD11c + CD14 + CCR7': 45,\n",
              "         'CD4 + CD16 + CD11c + CD14 + CCR5': 23,\n",
              "         'CD4 + CD16 + CD11c + CD14 + CCR5 + CCR7': 23,\n",
              "         'CD4 + CD16 + CD11c + CD14 + CD19 + CCR7': 2,\n",
              "         'CD4 + CD8 + CD16 + CD11c + CD14 + CD19 + CCR5 + CCR7': 2,\n",
              "         'CD4 + CD16 + CD10 + CD11c + CD14 + CCR5': 1,\n",
              "         'CD4 + CD16 + CD10 + CD11c + CD14': 4})"
            ]
          },
          "execution_count": 66,
          "metadata": {},
          "output_type": "execute_result"
        }
      ],
      "source": [
        "collections.Counter(BSS_res_list)"
      ]
    },
    {
      "cell_type": "code",
      "execution_count": 68,
      "metadata": {},
      "outputs": [
        {
          "data": {
            "text/plain": [
              "Counter({'CD4 + CD16 + CD11c + CD14 + CCR7': 40,\n",
              "         'CD4 + CD16 + CD11c + CD14 + CCR5': 23,\n",
              "         'CD4 + CD16 + CD11c + CD14 + CCR5 + CCR7': 24,\n",
              "         'CD4 + CD16 + CD11c + CD14 + CD19 + CCR7': 4,\n",
              "         'CD4 + CD8 + CD16 + CD11c + CD14 + CD19 + CCR5 + CCR7': 2,\n",
              "         'CD4 + CD16 + CD10 + CD11c + CD14 + CCR5': 1,\n",
              "         'CD4 + CD16 + CD10 + CD11c + CD14': 5,\n",
              "         'CD4 + CD56 + CD16 + CD11c + CD14 + CCR5': 1})"
            ]
          },
          "execution_count": 68,
          "metadata": {},
          "output_type": "execute_result"
        }
      ],
      "source": [
        "collections.Counter(BGS_res_list)"
      ]
    },
    {
      "cell_type": "code",
      "execution_count": null,
      "metadata": {},
      "outputs": [],
      "source": [
        "fig, ax = plt.subplots(figsize=(8,8),dpi=500)\n",
        "var_names = data.keys()[1:]\n",
        "\n",
        "labels = ['BGS' for i in range(500)]\n",
        "labels.extend(['BSS' for i in range(500)])\n",
        "\n",
        "width = 0.4\n",
        "plt.rcParams['font.size'] = '40'\n",
        "plt.rcParams['font.weight'] = 'bold'\n",
        "ax.set_xlabel('ADT', fontweight='bold')\n",
        "ax.set_ylabel('percentage of being selected', fontweight='bold')\n",
        "ax.bar(np.arange(13), 100*BGS_select_times/len(BGS_res_list), label = 'BGS', color = 'r',width =width)\n",
        "ax.bar(np.arange(13)+width, 100*BSS_select_times/len(BSS_res_list), label = 'BSS', color = 'b',width =width)\n",
        "\n",
        "plt.xticks(np.arange(13)+width/2, var_names,rotation=60)\n",
        "plt.yticks(np.arange(0,101,10))\n",
        "\n",
        "ax.legend()\n",
        "plt.show()\n"
      ]
    },
    {
      "cell_type": "code",
      "execution_count": 26,
      "metadata": {
        "id": "4lomRIMY5PWs"
      },
      "outputs": [],
      "source": [
        "BSS_select_res = np.load(\"BSS_select.npy\")"
      ]
    },
    {
      "cell_type": "code",
      "execution_count": 27,
      "metadata": {
        "id": "Py7goxPc5Vna"
      },
      "outputs": [],
      "source": [
        "BSS_select_times = np.zeros(p)\n",
        "for res in BSS_select_res:\n",
        "    #BSS_select = bin(res).replace('0b','')\n",
        "    BSS_select = res.rjust(p,'0')\n",
        "    BSS_select_times = BSS_select_times+np.array([BSS_select[i]==\"1\" for i in range(len(BSS_select))])+0"
      ]
    },
    {
      "cell_type": "code",
      "execution_count": null,
      "metadata": {
        "id": "NooYdFMA7ABE"
      },
      "outputs": [],
      "source": []
    }
  ],
  "metadata": {
    "colab": {
      "collapsed_sections": [],
      "provenance": []
    },
    "kernelspec": {
      "display_name": "Python 3",
      "name": "python3"
    },
    "language_info": {
      "codemirror_mode": {
        "name": "ipython",
        "version": 3
      },
      "file_extension": ".py",
      "mimetype": "text/x-python",
      "name": "python",
      "nbconvert_exporter": "python",
      "pygments_lexer": "ipython3",
      "version": "3.10.6"
    }
  },
  "nbformat": 4,
  "nbformat_minor": 0
}
