{
 "cells": [
  {
   "cell_type": "code",
   "execution_count": 1,
   "metadata": {},
   "outputs": [],
   "source": [
    "import scanpy as sc\n",
    "import pandas as pd\n",
    "import numpy as np\n",
    "import anndata as ad\n",
    "from anndata import AnnData\n",
    "import os\n",
    "\n",
    "from sklearn.model_selection import train_test_split"
   ]
  },
  {
   "cell_type": "code",
   "execution_count": 9,
   "metadata": {},
   "outputs": [
    {
     "name": "stderr",
     "output_type": "stream",
     "text": [
      "/var/folders/bb/wz4wt6yj3z16t5r9lfym2qww0000gn/T/ipykernel_33108/3740966816.py:33: ImplicitModificationWarning: Trying to modify attribute `.X` of view, initializing view as actual.\n",
      "  dattemp.X[:,0] = 1-bool.astype(int)\n"
     ]
    }
   ],
   "source": [
    "\n",
    "os.chdir(\"/Users/hlu/Desktop/rs_BGS/codes/\")\n",
    "dat = sc.read_csv(\"../data/datanew/data_8000_new.csv\")\n",
    "\n",
    "\n",
    "dat_np = dat.X\n",
    "\n",
    "\n",
    "# methodname = 'logreg' \n",
    "# methodname = 't-test'\n",
    "methodname =  'wilcoxon'\n",
    "\n",
    "dattemp = dat[0:6462,:]\n",
    "\n",
    "for case_sim in range(100):\n",
    "\n",
    "      train_data, test_data = train_test_split(dat_np, test_size=0.25)\n",
    "\n",
    "\n",
    "      dat_ADT = train_data[:, 1:14]\n",
    "      \n",
    "\n",
    "      dat_y = train_data[:, 0]\n",
    "\n",
    "      bool = (dat_y == 0)\n",
    "      dattemp.X[:,0] = 1-bool.astype(int)\n",
    "      dattemp.X[:,1:14] = dat_ADT \n",
    "\n",
    "      df1 = pd.DataFrame(dattemp.X[:,1:14], columns=dat.var_names[1:14])\n",
    "      aa = pd.DataFrame(dattemp.X[:,0],columns=[\"cell_type\"])\n",
    "      df1['cell_type'] = aa.astype(\"category\")\n",
    "      adaaa = ad.AnnData(df1.iloc[:,0:12])\n",
    "\n",
    "      adaaa.obs = pd.DataFrame(df1['cell_type']).astype(\"category\")\n",
    "      sc.tl.rank_genes_groups(adaaa, 'cell_type', rankby_abs = True, \\\n",
    "            method = methodname) \n",
    "\n",
    "      result = pd.DataFrame(adaaa.uns['rank_genes_groups']['names'])\n",
    "\n",
    "      savedir = \"../scanpy_results/real1_sim\" + str(case_sim+1) + \"_\" + methodname + \".csv\"\n",
    "      result.to_csv(savedir, index=False)\n",
    "\n",
    "     "
   ]
  },
  {
   "cell_type": "code",
   "execution_count": null,
   "metadata": {},
   "outputs": [],
   "source": []
  }
 ],
 "metadata": {
  "kernelspec": {
   "display_name": "Python 3.9.7 ('base')",
   "language": "python",
   "name": "python3"
  },
  "language_info": {
   "codemirror_mode": {
    "name": "ipython",
    "version": 3
   },
   "file_extension": ".py",
   "mimetype": "text/x-python",
   "name": "python",
   "nbconvert_exporter": "python",
   "pygments_lexer": "ipython3",
   "version": "3.9.7"
  },
  "orig_nbformat": 4,
  "vscode": {
   "interpreter": {
    "hash": "ccea1beed621d0eb6ec2619c86e39423b3b2d0b5aa150b4dba25ef5cd285343b"
   }
  }
 },
 "nbformat": 4,
 "nbformat_minor": 2
}
