{
 "cells": [
  {
   "cell_type": "code",
   "execution_count": 1,
   "metadata": {},
   "outputs": [
    {
     "name": "stderr",
     "output_type": "stream",
     "text": [
      "<frozen importlib._bootstrap>:219: RuntimeWarning: scipy._lib.messagestream.MessageStream size changed, may indicate binary incompatibility. Expected 56 from C header, got 64 from PyObject\n"
     ]
    }
   ],
   "source": [
    "%matplotlib inline\n",
    "# Importing standard Qiskit libraries and configuring account\n",
    "from qiskit import QuantumCircuit, execute, Aer, IBMQ\n",
    "from qiskit.compiler import transpile, assemble\n",
    "from qiskit.tools.jupyter import *\n",
    "from qiskit.visualization import *\n",
    "from qiskit import IBMQ, QuantumRegister, ClassicalRegister, execute, QuantumCircuit\n",
    "# Loading your IBM Q account(s)\n",
    "import pylab\n",
    "import numpy as np\n",
    "from qiskit import BasicAer\n",
    "from qiskit.tools.visualization import plot_histogram\n",
    "import time\n",
    "from qiskit.tools.monitor import job_monitor\n",
    "from datetime import datetime\n",
    "import sys\n",
    "sys.path.insert(0, './')\n",
    "from utility import *"
   ]
  },
  {
   "cell_type": "markdown",
   "metadata": {},
   "source": [
    "# load account"
   ]
  },
  {
   "cell_type": "code",
   "execution_count": 2,
   "metadata": {},
   "outputs": [
    {
     "name": "stderr",
     "output_type": "stream",
     "text": [
      "ibmqfactory.load_account:WARNING:2022-06-24 02:46:48,617: Credentials are already in use. The existing account in the session will be replaced.\n"
     ]
    },
    {
     "data": {
      "text/plain": [
       "<qiskit.providers.models.backendconfiguration.QasmBackendConfiguration at 0x7f2e9432dc70>"
      ]
     },
     "execution_count": 2,
     "metadata": {},
     "output_type": "execute_result"
    }
   ],
   "source": [
    "IBMQ.load_account()\n",
    "#provider = IBMQ.get_provider(hub = \"ibm-q-research-2\", group='uni-georgia-1', project='main')\n",
    "provider = IBMQ.get_provider(hub = \"ibm-q\", group='open', project='main')\n",
    "backend = provider.get_backend('ibmq_qasm_simulator')#('ibmq_manila')\n",
    "backend.configuration()"
   ]
  },
  {
   "cell_type": "markdown",
   "metadata": {},
   "source": [
    "# experiment "
   ]
  },
  {
   "cell_type": "markdown",
   "metadata": {},
   "source": [
    "## K = 7; s = 5; snr =3"
   ]
  },
  {
   "cell_type": "code",
   "execution_count": 3,
   "metadata": {},
   "outputs": [],
   "source": [
    "\n",
    "def QAS_linearReg(Input):\n",
    "    Y_train= Input[\"Y_train\"]\n",
    "    X_train= Input[\"X_train\"]\n",
    "    Y_test= Input[\"Y_test\"]\n",
    "    X_test= Input[\"X_test\"]\n",
    "    initial_index= Input[\"initial_index\"]\n",
    "    learn_rate=Input[\"learn_rate\"]\n",
    "    m = 1\n",
    "    Grover_iters = 1\n",
    "    p = X_train.shape[1]\n",
    "    \n",
    "    initial_Bin = \"0\"*p\n",
    "    for index in initial_index:\n",
    "        initial_Bin[index]=1\n",
    "    score_initial = score(initial_Bin,Y_train,X_train,Y_test,X_test)\n",
    "    \n",
    "    ScoresList = []\n",
    "    Binlist = []\n",
    "    for i in range(2**p):\n",
    "        Bin = bin(i).replace('0b', '')\n",
    "        Binlist.append(list(Bin.rjust(p,'0')))\n",
    "        ScoresList.append(score(Bin.rjust(p,'0'),Y_train,X_train,Y_test,X_test))\n",
    "    ScoresList = np.array(ScoresList)\n",
    "    Selected_Scores =[]\n",
    "\n",
    "    time_used = 0\n",
    "    while (m < 15*learn_rate*np.log(p)) and sum(score_initial>ScoresList) != 0:\n",
    "        iter_time = int(0.25*np.pi*learn_rate**(-m/2))+1\n",
    "        m = m+1\n",
    "        OracleState_index = np.where(ScoresList<score_initial)[0]\n",
    "        oracles_bin = [Binlist[k] for k in OracleState_index]\n",
    "\n",
    "        new_Bin,time = Grover(oracles_bin,p,iter_time,backend)\n",
    "        print(new_Bin)\n",
    "        time_used = time_used+time.total_seconds()\n",
    "        state_index = int(new_Bin,2)\n",
    "        score_new = ScoresList[state_index]\n",
    "        if score_initial> score_new:\n",
    "            selected_index = state_index\n",
    "            score_initial = score_new\n",
    "            m = 1\n",
    "        Selected_Scores.append(score_initial)\n",
    "    print(\"propose state is %d\"%selected_index)\n",
    "    return([selected_index,Selected_Scores,time_used])"
   ]
  },
  {
   "cell_type": "code",
   "execution_count": null,
   "metadata": {},
   "outputs": [
    {
     "name": "stdout",
     "output_type": "stream",
     "text": [
      "Job Status: job has successfully run\n",
      "1111111\n",
      "Job Status: job has successfully run\n",
      "0111111\n",
      "Job Status: job has successfully run\n",
      "1111101\n",
      "Job Status: job has successfully run\n",
      "1100010\n",
      "Job Status: job has successfully run\n",
      "1101110\n",
      "Job Status: job has successfully run\n",
      "1000100\n",
      "Job Status: job has successfully run\n",
      "1111110\n",
      "Job Status: job has successfully run\n",
      "0011111\n",
      "Job Status: job has successfully run\n",
      "1110111\n",
      "Job Status: job has successfully run\n",
      "0010111\n",
      "Job Status: job has successfully run\n",
      "1000011\n",
      "Job Status: job has successfully run\n",
      "0100011\n",
      "Job Status: job has successfully run\n",
      "1111001\n",
      "Job Status: job has successfully run\n",
      "1000111\n",
      "Job Status: job has successfully run\n",
      "0111101\n",
      "Job Status: job has successfully run\n",
      "1010101\n",
      "Job Status: job has successfully run\n",
      "0100001\n",
      "Job Status: job has successfully run\n",
      "1111000\n",
      "Job Status: job is queued (None)  "
     ]
    }
   ],
   "source": [
    "N=200\n",
    "n=100\n",
    "p=7\n",
    "s=5\n",
    "snr=3\n",
    "rho=0.25\n",
    "\n",
    "B = np.zeros((p,))\n",
    "B[0:s]=1\n",
    "Sigma = np.zeros((p,p))\n",
    "for i in range(p):\n",
    "    for j in range(p):\n",
    "        Sigma[i,j] = rho**abs(i-j)\n",
    "mu = np.zeros((p,))\n",
    "\n",
    "Selected_states =[]\n",
    "res7_3 = []\n",
    "for rep in range(100):\n",
    "    np.random.seed(101+rep)\n",
    "    X = np.random.multivariate_normal(mu, Sigma, N)+1\n",
    "    epsion = np.random.normal(0,1,N)\n",
    "\n",
    "    Y = X.dot(B)+np.sqrt(B.dot(Sigma).dot(B)/snr)*epsion\n",
    "    Y_train = Y[0:n]\n",
    "    X_train = X[0:n]\n",
    "    Y_test = Y[(n+1):N]\n",
    "    X_test = X[(n+1):N]\n",
    "    Input = dict({\"Y_train\":Y_train,\"X_train\":X_train,\"Y_test\":Y_test,\"X_test\":X_test,\\\n",
    "              \"initial_index\":[],\"learn_rate\":0.65})\n",
    "    experiment_res = QAS_linearReg(Input)\n",
    "    Selected_states.append(experiment_res[0])\n",
    "    res7_3.append(experiment_res)"
   ]
  },
  {
   "cell_type": "code",
   "execution_count": null,
   "metadata": {},
   "outputs": [],
   "source": [
    "FNR = sum([list(tmp[0])[0:s].count(\"0\") for tmp in res7_3])/s/100\n",
    "FNRsd = np.std([list(tmp[0])[0:s].count(\"0\") for tmp in res7_3])/s\n",
    "FPR = sum([list(tmp[0])[s:p].count(\"1\") for tmp in res7_3])/(p-s)/100\n",
    "FPRsd = np.std([list(tmp[0])[s:p].count(\"1\") for tmp in res7_3])/(p-s)\n",
    "print(\"FNR is %f\"%FNR)\n",
    "print(\"sd of FNR is %f\"%FNRsd)\n",
    "print(\"FPR is %f\"%FPR)\n",
    "print(\"sd of FPR is %f\"%FPRsd)"
   ]
  }
 ],
 "metadata": {
  "kernelspec": {
   "display_name": "Python 3 (ipykernel)",
   "language": "python",
   "name": "python3"
  },
  "language_info": {
   "codemirror_mode": {
    "name": "ipython",
    "version": 3
   },
   "file_extension": ".py",
   "mimetype": "text/x-python",
   "name": "python",
   "nbconvert_exporter": "python",
   "pygments_lexer": "ipython3",
   "version": "3.8.13"
  },
  "widgets": {
   "application/vnd.jupyter.widget-state+json": {
    "state": {},
    "version_major": 2,
    "version_minor": 0
   }
  }
 },
 "nbformat": 4,
 "nbformat_minor": 4
}
