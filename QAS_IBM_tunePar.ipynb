{
 "cells": [
  {
   "cell_type": "code",
   "execution_count": 1,
   "id": "9cbd5c67-3bd9-427b-8a86-dfdd9126f390",
   "metadata": {},
   "outputs": [
    {
     "name": "stderr",
     "output_type": "stream",
     "text": [
      "<frozen importlib._bootstrap>:219: RuntimeWarning: scipy._lib.messagestream.MessageStream size changed, may indicate binary incompatibility. Expected 56 from C header, got 64 from PyObject\n"
     ]
    }
   ],
   "source": [
    "%matplotlib inline\n",
    "# Importing standard Qiskit libraries and configuring account\n",
    "from qiskit import QuantumCircuit, execute, Aer, IBMQ\n",
    "from qiskit.compiler import transpile, assemble\n",
    "from qiskit.tools.jupyter import *\n",
    "from qiskit.visualization import *\n",
    "from qiskit import IBMQ, QuantumRegister, ClassicalRegister, execute, QuantumCircuit\n",
    "# Loading your IBM Q account(s)\n",
    "import pylab\n",
    "import numpy as np\n",
    "from qiskit import BasicAer\n",
    "from qiskit.tools.visualization import plot_histogram\n",
    "import time\n",
    "from qiskit.tools.monitor import job_monitor\n",
    "from datetime import datetime\n",
    "import sys\n",
    "sys.path.insert(0, './')\n",
    "from utility import *"
   ]
  },
  {
   "cell_type": "code",
   "execution_count": null,
   "id": "e0151c23-af9b-483e-8fc3-0f8ffb0d17af",
   "metadata": {},
   "outputs": [
    {
     "name": "stdout",
     "output_type": "stream",
     "text": [
      "Job Status: job has successfully run\n",
      "Job Status: job has successfully run\n"
     ]
    }
   ],
   "source": [
    "import numpy as np\n",
    "from sklearn.linear_model import LinearRegression\n",
    "\n",
    "p = 5\n",
    "nrep = 10\n",
    "Lambda_list = [41,43,45,47,49,51,53,55,57,59]\n",
    "for Lambda in Lambda_list:\n",
    "    Selected_states =[]\n",
    "    res = []\n",
    "    time = []\n",
    "    for rep in range(nrep):\n",
    "        np.random.seed(10*rep)\n",
    "        score = np.array(range(2**p))\n",
    "        Input = dict({\"score\":score,\n",
    "                  \"initial_index\":int((2**p)*np.random.rand()),\"learn_rate\":Lambda/100,\"StateNum\":p})\n",
    "        experiment_res = QAS(Input)\n",
    "        Selected_states.append(experiment_res[0])\n",
    "        res.append(experiment_res[0])\n",
    "        time.append(experiment_res[2])\n",
    "    res = np.array(res)\n",
    "    Selected_states = np.array(Selected_states)\n",
    "    np.save(\"res_%d_p%d.npy\"%(Lambda,p),res)\n",
    "    np.save(\"time_%d_p%d.npy\"%(Lambda,p),time)\n",
    "    np.save(\"Selected_state_%d_p%d.npy\"%(Lambda,p),Selected_states)"
   ]
  }
 ],
 "metadata": {
  "kernelspec": {
   "display_name": "Python 3 (ipykernel)",
   "language": "python",
   "name": "python3"
  },
  "language_info": {
   "codemirror_mode": {
    "name": "ipython",
    "version": 3
   },
   "file_extension": ".py",
   "mimetype": "text/x-python",
   "name": "python",
   "nbconvert_exporter": "python",
   "pygments_lexer": "ipython3",
   "version": "3.8.13"
  },
  "widgets": {
   "application/vnd.jupyter.widget-state+json": {
    "state": {},
    "version_major": 2,
    "version_minor": 0
   }
  }
 },
 "nbformat": 4,
 "nbformat_minor": 5
}
