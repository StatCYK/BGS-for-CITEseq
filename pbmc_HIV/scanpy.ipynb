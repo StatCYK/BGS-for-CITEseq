{
 "cells": [
  {
   "cell_type": "code",
   "execution_count": 1,
   "metadata": {},
   "outputs": [],
   "source": [
    "import scanpy as sc\n",
    "import pandas as pd\n",
    "import numpy as np\n",
    "import anndata as ad\n",
    "from anndata import AnnData\n",
    "import os\n",
    "\n",
    "from sklearn.model_selection import train_test_split\n"
   ]
  },
  {
   "cell_type": "code",
   "execution_count": null,
   "metadata": {},
   "outputs": [],
   "source": [
    "\n",
    "dat_np = dat.X\n",
    "\n",
    "method_names = ['logreg', 't-test', 'wilcoxon']\n",
    "\n",
    "RNA_list = [\"B intermediate kappa\", \"B intermediate lambda\", \"CD4 TEM_3\", \n",
    "                 \"B memory kappa\", \"B memory lambda\", \"B naive kappa\", \n",
    "                 \"B naive lambda\", \"CD4 CTL\", \"CD4 Naive\", \"CD4 TCM_1\", \n",
    "                 \"CD4 TCM_2\", \"CD4 TCM_3\", \"CD4 TEM_1\", \"CD8 Naive\", \"CD8 TCM_1\",\n",
    "                 \"CD8 TCM_2\", \"CD8 TCM_3\", \"CD8 TEM_1\", \"CD8 TEM_2\", \"Treg Memory\", \n",
    "                 \"Treg Naive\", \"CD8 TEM_4\", \"CD8 TEM_5\", \"CD8 TEM_6\", \"CD14 Mono\", \n",
    "                 \"CD16 Mono\", \"cDC2_1\", \"cDC2_2\", \"gdT_1\", \"gdT_2\", \"gdT_3\", \n",
    "                 \"gdT_4\", \"MAIT\", \"NK Proliferating\", \"NK_1\", \"NK_2\", \"NK_3\", \n",
    "                 \"NK_4\", \"NK_CD56bright\", \"pDC\", \"Platelet\"]\n",
    "i = 0\n",
    "for RNA_name in RNA_list:\n",
    "      i = i + 1\n",
    "      print(i)\n",
    "      datdir = \"../real2newdata/data/\" + RNA_name + \"_160000.csv\"\n",
    "      dat = sc.read_csv(datdir)\n",
    "      for methodname in method_names:\n",
    "\n",
    "            dattemp = dat[0:121323,:]\n",
    "\n",
    "            for case_sim in range(100):\n",
    "                  \n",
    "                  train_data, test_data = train_test_split(dat_np, test_size=0.25)\n",
    "\n",
    "\n",
    "                  dat_ADT = train_data[:, 0:10]\n",
    "\n",
    "\n",
    "                  dat_y = train_data[:, 10]\n",
    "\n",
    "                  # print(dat_y)\n",
    "                  bool = (dat_y == 0)\n",
    "                  dattemp.X[:,0] = 1-bool.astype(int)\n",
    "                  dattemp.X[:,1:11] = dat_ADT \n",
    "\n",
    "                  df1 = pd.DataFrame(dattemp.X[:,1:11], columns=dat.var_names[0:10])\n",
    "                  aa = pd.DataFrame(dattemp.X[:,0],columns=[\"cell_type\"])\n",
    "                  df1['cell_type'] = aa.astype(\"category\")\n",
    "                  adaaa = ad.AnnData(df1.iloc[:,0:12])\n",
    "\n",
    "                  adaaa.obs = pd.DataFrame(df1['cell_type']).astype(\"category\")\n",
    "                  sc.tl.rank_genes_groups(adaaa, 'cell_type', rankby_abs = True, \\\n",
    "                        method = methodname) \n",
    "\n",
    "\n",
    "                  result = pd.DataFrame(adaaa.uns['rank_genes_groups']['names'])\n",
    "\n",
    "                  savedir = \"../scanpy_results_new2/real2_\" + RNA_name + \"_\" + \"sim\" + str(case_sim+1) + \"_\" + methodname + \".csv\"\n",
    "                  result.to_csv(savedir, index=False)\n",
    "\n",
    "      "
   ]
  }
 ],
 "metadata": {
  "kernelspec": {
   "display_name": "Python 3.9.7 ('base')",
   "language": "python",
   "name": "python3"
  },
  "language_info": {
   "codemirror_mode": {
    "name": "ipython",
    "version": 3
   },
   "file_extension": ".py",
   "mimetype": "text/x-python",
   "name": "python",
   "nbconvert_exporter": "python",
   "pygments_lexer": "ipython3",
   "version": "3.9.7"
  },
  "orig_nbformat": 4,
  "vscode": {
   "interpreter": {
    "hash": "ccea1beed621d0eb6ec2619c86e39423b3b2d0b5aa150b4dba25ef5cd285343b"
   }
  }
 },
 "nbformat": 4,
 "nbformat_minor": 2
}
