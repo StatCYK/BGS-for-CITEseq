{
 "cells": [
  {
   "cell_type": "code",
   "execution_count": null,
   "id": "7d5630d6-82fd-418e-a8ad-a938e9a897a4",
   "metadata": {},
   "outputs": [],
   "source": [
    "# Importing standard Qiskit libraries and configuring account\n",
    "from qiskit import QuantumCircuit, execute, Aer, IBMQ\n",
    "from qiskit.compiler import transpile, assemble\n",
    "from qiskit.visualization import *\n",
    "from qiskit import IBMQ, QuantumRegister, ClassicalRegister\n",
    "import numpy as np\n",
    "from qiskit import BasicAer\n",
    "from qiskit.tools.visualization import plot_histogram\n",
    "import time\n",
    "from qiskit.tools.monitor import job_monitor\n",
    "from datetime import datetime\n",
    "import matplotlib.pyplot as plt\n",
    "from utility import *\n",
    "import multiprocessing\n",
    "import pandas as pd\n",
    "from sklearn import linear_model\n",
    "from sklearn.model_selection import train_test_split\n",
    "from sklearn.preprocessing import scale\n",
    "import pickle\n",
    "from itertools import product\n",
    "import seaborn"
   ]
  },
  {
   "cell_type": "code",
   "execution_count": 3,
   "id": "ec60063c",
   "metadata": {},
   "outputs": [],
   "source": [
    "iter_time = []\n",
    "num_var = []\n",
    "for p in range(6,16):\n",
    "    Input_list = []\n",
    "    with open(\"./output/res_simu_BGS_p%d\"%p, 'rb') as fr3:\n",
    "        res = pickle.load(fr3)\n",
    "    for i in range(100):\n",
    "        iter_time.append(np.log2(res[i][2]+1))\n",
    "        num_var.append(p)"
   ]
  },
  {
   "cell_type": "code",
   "execution_count": null,
   "id": "e2aa782b",
   "metadata": {},
   "outputs": [],
   "source": [
    "draw = pd.DataFrame({\"log of iteration times\":iter_time,\"D\":2**np.array(num_var)})\n",
    "seaborn.set(rc={'figure.figsize':(6,4),'figure.dpi':600})\n",
    "seaborn.set_style(\"whitegrid\")\n",
    "ax = seaborn.boxplot(x=\"D\",\n",
    "                y=\"log of iteration times\",\n",
    "                data=draw,width = 0.5, color = \"red\")#inner=None)#\n",
    "x = np.arange(6,16)\n",
    "ax.set_xticklabels([r\"$2^{%d}$\"%p for p in x])\n",
    "D = 2**x\n",
    "lower_bound = np.log2(0.25*np.pi/np.arcsin(np.sqrt(1/2**x))-0.5)\n",
    "ax = seaborn.lineplot(x = x-6,y = x-2 ,c = \"black\", linestyle='--',label = r\"$O(D)$\")\n",
    "ax = seaborn.lineplot(x = x-6,y = -4.5+0.5*x + 2*np.log2(x),c = \"blue\", linestyle='--',label = r\"$O(\\sqrt{D}(\\log D)^2)$\")\n",
    "ax = seaborn.lineplot(x = x-6,y = -1+0.5*x ,c = \"red\", linestyle='--',label = r\"$O(\\sqrt{D})$\")"
   ]
  },
  {
   "cell_type": "code",
   "execution_count": null,
   "id": "38a221d7",
   "metadata": {},
   "outputs": [],
   "source": []
  }
 ],
 "metadata": {
  "kernelspec": {
   "display_name": "Python 3.7.4 ('base')",
   "language": "python",
   "name": "python3"
  },
  "language_info": {
   "codemirror_mode": {
    "name": "ipython",
    "version": 3
   },
   "file_extension": ".py",
   "mimetype": "text/x-python",
   "name": "python",
   "nbconvert_exporter": "python",
   "pygments_lexer": "ipython3",
   "version": "3.7.4"
  },
  "vscode": {
   "interpreter": {
    "hash": "40d3a090f54c6569ab1632332b64b2c03c39dcf918b08424e98f38b5ae0af88f"
   }
  },
  "widgets": {
   "application/vnd.jupyter.widget-state+json": {
    "state": {
     "1875f815712e4e35ac0e034b82f9566f": {
      "model_module": "@jupyter-widgets/controls",
      "model_module_version": "1.5.0",
      "model_name": "DescriptionStyleModel",
      "state": {
       "description_width": ""
      }
     },
     "2292292d536d4ca7ab994bdeb3a66520": {
      "model_module": "@jupyter-widgets/controls",
      "model_module_version": "1.5.0",
      "model_name": "DescriptionStyleModel",
      "state": {
       "description_width": ""
      }
     },
     "2e38d5ab86e4402d87ba9d661d4b46d7": {
      "model_module": "@jupyter-widgets/controls",
      "model_module_version": "1.5.0",
      "model_name": "HTMLModel",
      "state": {
       "layout": "IPY_MODEL_ac89b67b73ab4df18e8143367c141103",
       "style": "IPY_MODEL_ce8cea8a340a41f79f71ca46faf1262a",
       "value": "<h5>Message</h5>"
      }
     },
     "3309e8ba7bee46978a4977826482631c": {
      "model_module": "@jupyter-widgets/controls",
      "model_module_version": "1.5.0",
      "model_name": "ButtonModel",
      "state": {
       "button_style": "primary",
       "description": "Clear",
       "layout": "IPY_MODEL_89d155fc4e3d4d85b4c4c5e15840bc09",
       "style": "IPY_MODEL_f79618acb52f41feb4f39dd14f3462ec"
      }
     },
     "3695960d2ee847319bcd1d1ecf603765": {
      "model_module": "@jupyter-widgets/controls",
      "model_module_version": "1.5.0",
      "model_name": "HTMLModel",
      "state": {
       "layout": "IPY_MODEL_52fe5dc93a9b42beb73c25c0098b1153",
       "style": "IPY_MODEL_1875f815712e4e35ac0e034b82f9566f",
       "value": "<p style='font-family: IBM Plex Sans, Arial, Helvetica, sans-serif; font-size: 20px; font-weight: medium;'>Circuit Properties</p>"
      }
     },
     "4c9fc37ceb71488b90f3e5be7238bf71": {
      "model_module": "@jupyter-widgets/controls",
      "model_module_version": "1.5.0",
      "model_name": "HTMLModel",
      "state": {
       "layout": "IPY_MODEL_d40adba862124a4cbaac99a4892014ed",
       "style": "IPY_MODEL_c940b05ecd5248dda4fd674aee888674",
       "value": "<h5>Status</h5>"
      }
     },
     "52fe5dc93a9b42beb73c25c0098b1153": {
      "model_module": "@jupyter-widgets/base",
      "model_module_version": "1.2.0",
      "model_name": "LayoutModel",
      "state": {
       "margin": "0px 0px 10px 0px"
      }
     },
     "5a5cf21f617c48d0accd49b1761c1b50": {
      "model_module": "@jupyter-widgets/controls",
      "model_module_version": "1.5.0",
      "model_name": "HTMLModel",
      "state": {
       "layout": "IPY_MODEL_a0b0eb5938e64d2fbcc84fcb8f2d9e87",
       "style": "IPY_MODEL_6c32f54822fe4923a009f9d76e9ab81d",
       "value": "<h5>Queue</h5>"
      }
     },
     "626deda63bbf4dc684cf6707ad881ea3": {
      "model_module": "@jupyter-widgets/controls",
      "model_module_version": "1.5.0",
      "model_name": "HTMLModel",
      "state": {
       "layout": "IPY_MODEL_704455ed7b864bc7bc647998fed6ad99",
       "style": "IPY_MODEL_c23b3f262f4e4a7287e97e7670c17e58",
       "value": "<h5>Job ID</h5>"
      }
     },
     "6c32f54822fe4923a009f9d76e9ab81d": {
      "model_module": "@jupyter-widgets/controls",
      "model_module_version": "1.5.0",
      "model_name": "DescriptionStyleModel",
      "state": {
       "description_width": ""
      }
     },
     "704455ed7b864bc7bc647998fed6ad99": {
      "model_module": "@jupyter-widgets/base",
      "model_module_version": "1.2.0",
      "model_name": "LayoutModel",
      "state": {
       "width": "190px"
      }
     },
     "729c00df56994120a36fc62775d3b8e9": {
      "model_module": "@jupyter-widgets/base",
      "model_module_version": "1.2.0",
      "model_name": "LayoutModel",
      "state": {
       "margin": "0px 0px 0px 37px",
       "width": "600px"
      }
     },
     "793adbbc4586443398f27d821b86631a": {
      "model_module": "@jupyter-widgets/base",
      "model_module_version": "1.2.0",
      "model_name": "LayoutModel",
      "state": {
       "grid_template_areas": "\n                                       \". . . . right \"\n                                        ",
       "grid_template_columns": "20% 20% 20% 20% 20%",
       "width": "100%"
      }
     },
     "8317bac001f84a529fde98cd5b9efeb8": {
      "model_module": "@jupyter-widgets/base",
      "model_module_version": "1.2.0",
      "model_name": "LayoutModel",
      "state": {
       "width": "145px"
      }
     },
     "89d155fc4e3d4d85b4c4c5e15840bc09": {
      "model_module": "@jupyter-widgets/base",
      "model_module_version": "1.2.0",
      "model_name": "LayoutModel",
      "state": {
       "grid_area": "right",
       "padding": "0px 0px 0px 0px",
       "width": "70px"
      }
     },
     "8dde65a93e8840d6bde679d4a943ad33": {
      "model_module": "@jupyter-widgets/controls",
      "model_module_version": "1.5.0",
      "model_name": "GridBoxModel",
      "state": {
       "children": [
        "IPY_MODEL_3309e8ba7bee46978a4977826482631c"
       ],
       "layout": "IPY_MODEL_793adbbc4586443398f27d821b86631a"
      }
     },
     "a0b0eb5938e64d2fbcc84fcb8f2d9e87": {
      "model_module": "@jupyter-widgets/base",
      "model_module_version": "1.2.0",
      "model_name": "LayoutModel",
      "state": {
       "width": "70px"
      }
     },
     "ac89b67b73ab4df18e8143367c141103": {
      "model_module": "@jupyter-widgets/base",
      "model_module_version": "1.2.0",
      "model_name": "LayoutModel",
      "state": {}
     },
     "c23b3f262f4e4a7287e97e7670c17e58": {
      "model_module": "@jupyter-widgets/controls",
      "model_module_version": "1.5.0",
      "model_name": "DescriptionStyleModel",
      "state": {
       "description_width": ""
      }
     },
     "c940b05ecd5248dda4fd674aee888674": {
      "model_module": "@jupyter-widgets/controls",
      "model_module_version": "1.5.0",
      "model_name": "DescriptionStyleModel",
      "state": {
       "description_width": ""
      }
     },
     "ce8cea8a340a41f79f71ca46faf1262a": {
      "model_module": "@jupyter-widgets/controls",
      "model_module_version": "1.5.0",
      "model_name": "DescriptionStyleModel",
      "state": {
       "description_width": ""
      }
     },
     "d40adba862124a4cbaac99a4892014ed": {
      "model_module": "@jupyter-widgets/base",
      "model_module_version": "1.2.0",
      "model_name": "LayoutModel",
      "state": {
       "width": "95px"
      }
     },
     "d6adb3b5fe8349eb843b7958ab2fd2b1": {
      "model_module": "@jupyter-widgets/controls",
      "model_module_version": "1.5.0",
      "model_name": "HTMLModel",
      "state": {
       "layout": "IPY_MODEL_8317bac001f84a529fde98cd5b9efeb8",
       "style": "IPY_MODEL_2292292d536d4ca7ab994bdeb3a66520",
       "value": "<h5>Backend</h5>"
      }
     },
     "dc8d4258dc0a4bd3b37082d935113779": {
      "model_module": "@jupyter-widgets/controls",
      "model_module_version": "1.5.0",
      "model_name": "HBoxModel",
      "state": {
       "children": [
        "IPY_MODEL_626deda63bbf4dc684cf6707ad881ea3",
        "IPY_MODEL_d6adb3b5fe8349eb843b7958ab2fd2b1",
        "IPY_MODEL_4c9fc37ceb71488b90f3e5be7238bf71",
        "IPY_MODEL_5a5cf21f617c48d0accd49b1761c1b50",
        "IPY_MODEL_2e38d5ab86e4402d87ba9d661d4b46d7"
       ],
       "layout": "IPY_MODEL_729c00df56994120a36fc62775d3b8e9"
      }
     },
     "f79618acb52f41feb4f39dd14f3462ec": {
      "model_module": "@jupyter-widgets/controls",
      "model_module_version": "1.5.0",
      "model_name": "ButtonStyleModel",
      "state": {}
     }
    },
    "version_major": 2,
    "version_minor": 0
   }
  }
 },
 "nbformat": 4,
 "nbformat_minor": 5
}
